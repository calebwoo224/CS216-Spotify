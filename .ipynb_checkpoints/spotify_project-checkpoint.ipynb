{
 "cells": [
  {
   "cell_type": "code",
   "execution_count": 1,
   "metadata": {},
   "outputs": [
    {
     "data": {
      "text/html": [
       "<div>\n",
       "<style scoped>\n",
       "    .dataframe tbody tr th:only-of-type {\n",
       "        vertical-align: middle;\n",
       "    }\n",
       "\n",
       "    .dataframe tbody tr th {\n",
       "        vertical-align: top;\n",
       "    }\n",
       "\n",
       "    .dataframe thead th {\n",
       "        text-align: right;\n",
       "    }\n",
       "</style>\n",
       "<table border=\"1\" class=\"dataframe\">\n",
       "  <thead>\n",
       "    <tr style=\"text-align: right;\">\n",
       "      <th></th>\n",
       "      <th>id</th>\n",
       "      <th>name</th>\n",
       "      <th>album</th>\n",
       "      <th>album_id</th>\n",
       "      <th>artists</th>\n",
       "      <th>artist_ids</th>\n",
       "      <th>track_number</th>\n",
       "      <th>disc_number</th>\n",
       "      <th>explicit</th>\n",
       "      <th>danceability</th>\n",
       "      <th>...</th>\n",
       "      <th>speechiness</th>\n",
       "      <th>acousticness</th>\n",
       "      <th>instrumentalness</th>\n",
       "      <th>liveness</th>\n",
       "      <th>valence</th>\n",
       "      <th>tempo</th>\n",
       "      <th>duration_ms</th>\n",
       "      <th>time_signature</th>\n",
       "      <th>year</th>\n",
       "      <th>release_date</th>\n",
       "    </tr>\n",
       "  </thead>\n",
       "  <tbody>\n",
       "    <tr>\n",
       "      <th>0</th>\n",
       "      <td>7lmeHLHBe4nmXzuXc0HDjk</td>\n",
       "      <td>Testify</td>\n",
       "      <td>The Battle Of Los Angeles</td>\n",
       "      <td>2eia0myWFgoHuttJytCxgX</td>\n",
       "      <td>['Rage Against The Machine']</td>\n",
       "      <td>['2d0hyoQ5ynDBnkvAbJKORj']</td>\n",
       "      <td>1</td>\n",
       "      <td>1</td>\n",
       "      <td>False</td>\n",
       "      <td>0.470</td>\n",
       "      <td>...</td>\n",
       "      <td>0.0727</td>\n",
       "      <td>0.02610</td>\n",
       "      <td>0.000011</td>\n",
       "      <td>0.3560</td>\n",
       "      <td>0.503</td>\n",
       "      <td>117.906</td>\n",
       "      <td>210133</td>\n",
       "      <td>4.0</td>\n",
       "      <td>1999</td>\n",
       "      <td>1999-11-02</td>\n",
       "    </tr>\n",
       "    <tr>\n",
       "      <th>1</th>\n",
       "      <td>1wsRitfRRtWyEapl0q22o8</td>\n",
       "      <td>Guerrilla Radio</td>\n",
       "      <td>The Battle Of Los Angeles</td>\n",
       "      <td>2eia0myWFgoHuttJytCxgX</td>\n",
       "      <td>['Rage Against The Machine']</td>\n",
       "      <td>['2d0hyoQ5ynDBnkvAbJKORj']</td>\n",
       "      <td>2</td>\n",
       "      <td>1</td>\n",
       "      <td>True</td>\n",
       "      <td>0.599</td>\n",
       "      <td>...</td>\n",
       "      <td>0.1880</td>\n",
       "      <td>0.01290</td>\n",
       "      <td>0.000071</td>\n",
       "      <td>0.1550</td>\n",
       "      <td>0.489</td>\n",
       "      <td>103.680</td>\n",
       "      <td>206200</td>\n",
       "      <td>4.0</td>\n",
       "      <td>1999</td>\n",
       "      <td>1999-11-02</td>\n",
       "    </tr>\n",
       "    <tr>\n",
       "      <th>2</th>\n",
       "      <td>1hR0fIFK2qRG3f3RF70pb7</td>\n",
       "      <td>Calm Like a Bomb</td>\n",
       "      <td>The Battle Of Los Angeles</td>\n",
       "      <td>2eia0myWFgoHuttJytCxgX</td>\n",
       "      <td>['Rage Against The Machine']</td>\n",
       "      <td>['2d0hyoQ5ynDBnkvAbJKORj']</td>\n",
       "      <td>3</td>\n",
       "      <td>1</td>\n",
       "      <td>False</td>\n",
       "      <td>0.315</td>\n",
       "      <td>...</td>\n",
       "      <td>0.4830</td>\n",
       "      <td>0.02340</td>\n",
       "      <td>0.000002</td>\n",
       "      <td>0.1220</td>\n",
       "      <td>0.370</td>\n",
       "      <td>149.749</td>\n",
       "      <td>298893</td>\n",
       "      <td>4.0</td>\n",
       "      <td>1999</td>\n",
       "      <td>1999-11-02</td>\n",
       "    </tr>\n",
       "    <tr>\n",
       "      <th>3</th>\n",
       "      <td>2lbASgTSoDO7MTuLAXlTW0</td>\n",
       "      <td>Mic Check</td>\n",
       "      <td>The Battle Of Los Angeles</td>\n",
       "      <td>2eia0myWFgoHuttJytCxgX</td>\n",
       "      <td>['Rage Against The Machine']</td>\n",
       "      <td>['2d0hyoQ5ynDBnkvAbJKORj']</td>\n",
       "      <td>4</td>\n",
       "      <td>1</td>\n",
       "      <td>True</td>\n",
       "      <td>0.440</td>\n",
       "      <td>...</td>\n",
       "      <td>0.2370</td>\n",
       "      <td>0.16300</td>\n",
       "      <td>0.000004</td>\n",
       "      <td>0.1210</td>\n",
       "      <td>0.574</td>\n",
       "      <td>96.752</td>\n",
       "      <td>213640</td>\n",
       "      <td>4.0</td>\n",
       "      <td>1999</td>\n",
       "      <td>1999-11-02</td>\n",
       "    </tr>\n",
       "    <tr>\n",
       "      <th>4</th>\n",
       "      <td>1MQTmpYOZ6fcMQc56Hdo7T</td>\n",
       "      <td>Sleep Now In the Fire</td>\n",
       "      <td>The Battle Of Los Angeles</td>\n",
       "      <td>2eia0myWFgoHuttJytCxgX</td>\n",
       "      <td>['Rage Against The Machine']</td>\n",
       "      <td>['2d0hyoQ5ynDBnkvAbJKORj']</td>\n",
       "      <td>5</td>\n",
       "      <td>1</td>\n",
       "      <td>False</td>\n",
       "      <td>0.426</td>\n",
       "      <td>...</td>\n",
       "      <td>0.0701</td>\n",
       "      <td>0.00162</td>\n",
       "      <td>0.105000</td>\n",
       "      <td>0.0789</td>\n",
       "      <td>0.539</td>\n",
       "      <td>127.059</td>\n",
       "      <td>205600</td>\n",
       "      <td>4.0</td>\n",
       "      <td>1999</td>\n",
       "      <td>1999-11-02</td>\n",
       "    </tr>\n",
       "  </tbody>\n",
       "</table>\n",
       "<p>5 rows × 24 columns</p>\n",
       "</div>"
      ],
      "text/plain": [
       "                       id                   name                      album  \\\n",
       "0  7lmeHLHBe4nmXzuXc0HDjk                Testify  The Battle Of Los Angeles   \n",
       "1  1wsRitfRRtWyEapl0q22o8        Guerrilla Radio  The Battle Of Los Angeles   \n",
       "2  1hR0fIFK2qRG3f3RF70pb7       Calm Like a Bomb  The Battle Of Los Angeles   \n",
       "3  2lbASgTSoDO7MTuLAXlTW0              Mic Check  The Battle Of Los Angeles   \n",
       "4  1MQTmpYOZ6fcMQc56Hdo7T  Sleep Now In the Fire  The Battle Of Los Angeles   \n",
       "\n",
       "                 album_id                       artists  \\\n",
       "0  2eia0myWFgoHuttJytCxgX  ['Rage Against The Machine']   \n",
       "1  2eia0myWFgoHuttJytCxgX  ['Rage Against The Machine']   \n",
       "2  2eia0myWFgoHuttJytCxgX  ['Rage Against The Machine']   \n",
       "3  2eia0myWFgoHuttJytCxgX  ['Rage Against The Machine']   \n",
       "4  2eia0myWFgoHuttJytCxgX  ['Rage Against The Machine']   \n",
       "\n",
       "                   artist_ids  track_number  disc_number  explicit  \\\n",
       "0  ['2d0hyoQ5ynDBnkvAbJKORj']             1            1     False   \n",
       "1  ['2d0hyoQ5ynDBnkvAbJKORj']             2            1      True   \n",
       "2  ['2d0hyoQ5ynDBnkvAbJKORj']             3            1     False   \n",
       "3  ['2d0hyoQ5ynDBnkvAbJKORj']             4            1      True   \n",
       "4  ['2d0hyoQ5ynDBnkvAbJKORj']             5            1     False   \n",
       "\n",
       "   danceability  ...  speechiness  acousticness  instrumentalness  liveness  \\\n",
       "0         0.470  ...       0.0727       0.02610          0.000011    0.3560   \n",
       "1         0.599  ...       0.1880       0.01290          0.000071    0.1550   \n",
       "2         0.315  ...       0.4830       0.02340          0.000002    0.1220   \n",
       "3         0.440  ...       0.2370       0.16300          0.000004    0.1210   \n",
       "4         0.426  ...       0.0701       0.00162          0.105000    0.0789   \n",
       "\n",
       "   valence    tempo  duration_ms  time_signature  year  release_date  \n",
       "0    0.503  117.906       210133             4.0  1999    1999-11-02  \n",
       "1    0.489  103.680       206200             4.0  1999    1999-11-02  \n",
       "2    0.370  149.749       298893             4.0  1999    1999-11-02  \n",
       "3    0.574   96.752       213640             4.0  1999    1999-11-02  \n",
       "4    0.539  127.059       205600             4.0  1999    1999-11-02  \n",
       "\n",
       "[5 rows x 24 columns]"
      ]
     },
     "execution_count": 1,
     "metadata": {},
     "output_type": "execute_result"
    }
   ],
   "source": [
    "# Run but do not modify this code\n",
    "import pandas as pd\n",
    "import seaborn as sns\n",
    "from ast import literal_eval\n",
    "\n",
    "data1 = pd.read_csv(\"data1.csv\")\n",
    "data2 = pd.read_csv(\"data2.csv\")\n",
    "data3 = pd.read_csv(\"data3.csv\")\n",
    "data4 = pd.read_csv(\"data4.csv\")\n",
    "data1.head()\n",
    "\n",
    "all_songs = pd.concat([data1, data2, data3, data4])\n",
    "all_songs.head()\n"
   ]
  },
  {
   "cell_type": "markdown",
   "metadata": {},
   "source": [
    "# Summary Stats"
   ]
  },
  {
   "cell_type": "code",
   "execution_count": 2,
   "metadata": {},
   "outputs": [
    {
     "name": "stdout",
     "output_type": "stream",
     "text": [
      "average danceability:\n",
      "0.49305652179149567\n",
      "average acousticness: \n",
      "0.44675109819685244\n",
      "average valence(positivity): \n",
      "0.42798662251866953\n"
     ]
    }
   ],
   "source": [
    "avg_danceability = all_songs[\"danceability\"].mean()\n",
    "avg_acousticness = all_songs[\"acousticness\"].mean()\n",
    "avg_valence = all_songs[\"valence\"].mean()\n",
    "\n",
    "print(\"average danceability:\") \n",
    "print(avg_danceability)\n",
    "print(\"average acousticness: \")\n",
    "print(avg_acousticness)\n",
    "print(\"average valence(positivity): \")\n",
    "print(avg_valence)\n"
   ]
  },
  {
   "cell_type": "markdown",
   "metadata": {},
   "source": [
    "# How features change over time"
   ]
  },
  {
   "cell_type": "code",
   "execution_count": 3,
   "metadata": {},
   "outputs": [
    {
     "data": {
      "text/plain": [
       "<AxesSubplot:xlabel='danceability', ylabel='year'>"
      ]
     },
     "execution_count": 3,
     "metadata": {},
     "output_type": "execute_result"
    },
    {
     "data": {
      "image/png": "[encoded data removed]",
      "text/plain": [
       "<Figure size 432x288 with 1 Axes>"
      ]
     },
     "metadata": {
      "needs_background": "light"
     },
     "output_type": "display_data"
    }
   ],
   "source": [
    "sns.barplot(x = \"danceability\", y=\"year\", data=all_songs[all_songs[\"year\"] > 1968]) #there are a few songs from before the 1970s but not many  \n",
    "#sns.barplot(x = \"acousticness\", y=\"year\", data=all_songs[all_songs[\"year\"] > 1968])\n",
    "#sns.barplot(x = \"valence\", y=\"year\", data=all_songs[all_songs[\"year\"] > 1968])\n"
   ]
  },
  {
   "cell_type": "markdown",
   "metadata": {},
   "source": [
    "# Model"
   ]
  },
  {
   "cell_type": "code",
   "execution_count": 4,
   "metadata": {},
   "outputs": [],
   "source": [
    "artist = []\n",
    "for a in all_songs[\"artists\"].apply(literal_eval):\n",
    "    artist.append(a[0])\n",
    "    \n",
    "all_songs[\"artist\"] = artist\n",
    "    "
   ]
  },
  {
   "cell_type": "code",
   "execution_count": 6,
   "metadata": {},
   "outputs": [
    {
     "name": "stdout",
     "output_type": "stream",
     "text": [
      "artist\n",
      "Johann Sebastian Bach                        9473\n",
      "Ludwig van Beethoven                         5710\n",
      "Wolfgang Amadeus Mozart                      3768\n",
      "George Frideric Handel                       3008\n",
      "Antonio Vivaldi                              2851\n",
      "Franz Joseph Haydn                           2239\n",
      "Sergei Prokofiev                             2092\n",
      "Pyotr Ilyich Tchaikovsky                     2036\n",
      "Johannes Brahms                              2035\n",
      "Various Artists                              2027\n",
      "Frédéric Chopin                              2024\n",
      "Dmitri Shostakovich                          1952\n",
      "Franz Schubert                               1804\n",
      "Robert Schumann                              1693\n",
      "Vitamin String Quartet                       1578\n",
      "Traditional                                  1575\n",
      "Claude Debussy                               1461\n",
      "The City of Prague Philharmonic Orchestra    1387\n",
      "Georg Philipp Telemann                       1338\n",
      "Felix Mendelssohn                            1313\n",
      "Anonymous                                    1298\n",
      "Aretha Franklin                              1285\n",
      "Edvard Grieg                                 1264\n",
      "Igor Stravinsky                              1240\n",
      "Benjamin Britten                             1203\n",
      "Sergei Rachmaninoff                          1179\n",
      "Antonín Dvořák                               1165\n",
      "Richard Wagner                               1121\n",
      "Philip Glass                                 1047\n",
      "Pickin' On Series                            1040\n",
      "Gustav Mahler                                1023\n",
      "Gioachino Rossini                            1013\n",
      "Jean Sibelius                                1004\n",
      "Dan Gibson's Solitudes                        997\n",
      "Bob Dylan                                     936\n",
      "Franz Liszt                                   929\n",
      "Giuseppe Verdi                                920\n",
      "Dolly Parton                                  902\n",
      "Dietrich Buxtehude                            855\n",
      "The Fall                                      823\n",
      "Béla Bartók                                   815\n",
      "Dionne Warwick                                791\n",
      "Giacomo Puccini                               785\n",
      "Elvis Presley                                 782\n",
      "Edward Elgar                                  775\n",
      "Guided By Voices                              751\n",
      "Leonard Bernstein                             728\n",
      "Fleetwood Mac                                 705\n",
      "Richard Strauss                               698\n",
      "Emmylou Harris                                683\n",
      "Barry Manilow                                 659\n",
      "Modest Mussorgsky                             658\n",
      "Maurice Ravel                                 657\n",
      "Camille Saint-Saëns                           655\n",
      "Ralph Vaughan Williams                        649\n",
      "Steven Halpern                                642\n",
      "Udo Jürgens                                   638\n",
      "Mannheim Steamroller                          627\n",
      "Revolt Production Music                       627\n",
      "Domenico Scarlatti                            625\n",
      "dtype: int64\n"
     ]
    }
   ],
   "source": [
    "acount = all_songs.groupby(\"artist\").size().sort_values(ascending=False)\n",
    "#print(acount.head(30))\n",
    "candidates = [\"Johann Sebastian Bach\", \"Ludwig van Beethoven\", \"Wolfgang Amadeus Mozart\",\n",
    "             \"George Frideric Handel\", \"Antonio Vivaldi\", \"Franz Joseph Haydn\",\n",
    "             \"Sergei Prokofiev\", \"Pyotr Ilyich Tchaikovsky\", \"Johannes Brahms\",\n",
    "             \"Frédéric Chopin\", \"Dmitri Shostakovich\", \"Franz Schubert\",\n",
    "             \"Robert Schumann\", \"Claude Debussy\", \"Georg Philipp Telemann\",\n",
    "             \"Felix Mendelssohn\", \"Edvard Grieg\", \"Igor Stravinsky\",\n",
    "             \"Sergei Rachmaninoff\", \"Antonín Dvořák\"]\n",
    "filtered = all_songs[all_songs[\"artist\"].isin(candidates)]\n"
   ]
  },
  {
   "cell_type": "code",
   "execution_count": 6,
   "metadata": {},
   "outputs": [],
   "source": [
    "from sklearn.model_selection import train_test_split\n",
    "\n",
    "data = filtered[[\"danceability\", \"energy\", \"key\", \"loudness\", \"mode\", \"speechiness\", \"acousticness\",\n",
    "                  \"instrumentalness\", \"liveness\", \"valence\", \"tempo\"]]\n",
    "target = filtered[\"artist\"]\n",
    "\n",
    "train_data, test_data, train_target, test_target = train_test_split(\n",
    "    data, target, test_size=0.7, random_state=216)\n"
   ]
  },
  {
   "cell_type": "code",
   "execution_count": 7,
   "metadata": {},
   "outputs": [
    {
     "name": "stdout",
     "output_type": "stream",
     "text": [
      "0.21050157792251392\n",
      "0.1935140423572744\n"
     ]
    }
   ],
   "source": [
    "from sklearn.neighbors import KNeighborsClassifier\n",
    "\n",
    "knn_model = KNeighborsClassifier(n_neighbors=100)\n",
    "knn_model.fit(train_data, train_target)\n",
    "print(knn_model.score(train_data, train_target))\n",
    "print(knn_model.score(test_data, test_target))\n"
   ]
  },
  {
   "cell_type": "code",
   "execution_count": 6,
   "metadata": {},
   "outputs": [
    {
     "name": "stdout",
     "output_type": "stream",
     "text": [
      "accuracy: 0.2419141344383057\n"
     ]
    },
    {
     "name": "stderr",
     "output_type": "stream",
     "text": [
      "/Users/caleb1/opt/anaconda3/lib/python3.8/site-packages/sklearn/linear_model/_logistic.py:762: ConvergenceWarning: lbfgs failed to converge (status=1):\n",
      "STOP: TOTAL NO. of ITERATIONS REACHED LIMIT.\n",
      "\n",
      "Increase the number of iterations (max_iter) or scale the data as shown in:\n",
      "    https://scikit-learn.org/stable/modules/preprocessing.html\n",
      "Please also refer to the documentation for alternative solver options:\n",
      "    https://scikit-learn.org/stable/modules/linear_model.html#logistic-regression\n",
      "  n_iter_i = _check_optimize_result(\n"
     ]
    }
   ],
   "source": [
    "from sklearn.linear_model import LogisticRegression\n",
    "from sklearn.metrics import accuracy_score\n",
    "\n",
    "logistic_model = LogisticRegression(max_iter=1000)\n",
    "logistic_model.fit(train_data, train_target)\n",
    "predicted = logistic_model.predict(test_data)\n",
    "score = accuracy_score(y_true=test_target, y_pred=predicted)\n",
    "\n",
    "print(\"accuracy: {}\".format(score))\n"
   ]
  },
  {
   "cell_type": "code",
   "execution_count": 9,
   "metadata": {},
   "outputs": [
    {
     "name": "stdout",
     "output_type": "stream",
     "text": [
      "artist\n",
      "Johann Sebastian Bach                        9473\n",
      "Ludwig van Beethoven                         5710\n",
      "Wolfgang Amadeus Mozart                      3768\n",
      "George Frideric Handel                       3008\n",
      "Antonio Vivaldi                              2851\n",
      "Franz Joseph Haydn                           2239\n",
      "Sergei Prokofiev                             2092\n",
      "Pyotr Ilyich Tchaikovsky                     2036\n",
      "Johannes Brahms                              2035\n",
      "Various Artists                              2027\n",
      "Frédéric Chopin                              2024\n",
      "Dmitri Shostakovich                          1952\n",
      "Franz Schubert                               1804\n",
      "Robert Schumann                              1693\n",
      "Vitamin String Quartet                       1578\n",
      "Traditional                                  1575\n",
      "Claude Debussy                               1461\n",
      "The City of Prague Philharmonic Orchestra    1387\n",
      "Georg Philipp Telemann                       1338\n",
      "Felix Mendelssohn                            1313\n",
      "Anonymous                                    1298\n",
      "Aretha Franklin                              1285\n",
      "Edvard Grieg                                 1264\n",
      "Igor Stravinsky                              1240\n",
      "Benjamin Britten                             1203\n",
      "Sergei Rachmaninoff                          1179\n",
      "Antonín Dvořák                               1165\n",
      "Richard Wagner                               1121\n",
      "Philip Glass                                 1047\n",
      "Pickin' On Series                            1040\n",
      "Gustav Mahler                                1023\n",
      "Gioachino Rossini                            1013\n",
      "Jean Sibelius                                1004\n",
      "Dan Gibson's Solitudes                        997\n",
      "Bob Dylan                                     936\n",
      "Franz Liszt                                   929\n",
      "Giuseppe Verdi                                920\n",
      "Dolly Parton                                  902\n",
      "Dietrich Buxtehude                            855\n",
      "The Fall                                      823\n",
      "Béla Bartók                                   815\n",
      "Dionne Warwick                                791\n",
      "Giacomo Puccini                               785\n",
      "Elvis Presley                                 782\n",
      "Edward Elgar                                  775\n",
      "Guided By Voices                              751\n",
      "Leonard Bernstein                             728\n",
      "Fleetwood Mac                                 705\n",
      "Richard Strauss                               698\n",
      "Emmylou Harris                                683\n",
      "Barry Manilow                                 659\n",
      "Modest Mussorgsky                             658\n",
      "Maurice Ravel                                 657\n",
      "Camille Saint-Saëns                           655\n",
      "Ralph Vaughan Williams                        649\n",
      "Steven Halpern                                642\n",
      "Udo Jürgens                                   638\n",
      "Mannheim Steamroller                          627\n",
      "Revolt Production Music                       627\n",
      "Domenico Scarlatti                            625\n",
      "dtype: int64\n"
     ]
    }
   ],
   "source": [
    "#acount = all_songs.groupby(\"artist\").size().sort_values(ascending=False)\n",
    "print(acount.head(60))\n",
    "\n",
    "candidates2 = [\"Johann Sebastian Bach\", \"Wolfgang Amadeus Mozart\",\n",
    "             \"Sergei Prokofiev\", \"Aretha Franklin\", \"Bob Dylan\",\n",
    "            \"Fleetwood Mac\", \"Dolly Parton\", \"The Fall\", \"Elvis Presley\",\n",
    "             \"Emmylou Harris\", \"Barry Manilow\", \"Steven Halpern\",\n",
    "             \"Mannheim Steamroller\"]\n",
    "filtered2 = all_songs[all_songs[\"artist\"].isin(candidates2)]"
   ]
  },
  {
   "cell_type": "code",
   "execution_count": 12,
   "metadata": {},
   "outputs": [],
   "source": [
    "from sklearn.model_selection import train_test_split\n",
    "\n",
    "data2 = filtered2[[\"danceability\", \"energy\", \"key\", \"loudness\", \"mode\", \"speechiness\", \"acousticness\",\n",
    "                  \"instrumentalness\", \"liveness\", \"valence\", \"tempo\"]]\n",
    "target2 = filtered2[\"artist\"]\n",
    "\n",
    "train_data2, test_data2, train_target2, test_target2 = train_test_split(\n",
    "    data2, target2, test_size=0.7, random_state=216)\n"
   ]
  },
  {
   "cell_type": "code",
   "execution_count": 15,
   "metadata": {},
   "outputs": [
    {
     "name": "stdout",
     "output_type": "stream",
     "text": [
      "0.453586197062598\n",
      "0.45196773405035445\n"
     ]
    }
   ],
   "source": [
    "from sklearn.neighbors import KNeighborsClassifier\n",
    "\n",
    "knn_model2 = KNeighborsClassifier(n_neighbors=100)\n",
    "knn_model2.fit(train_data2, train_target2)\n",
    "print(knn_model2.score(train_data2, train_target2))\n",
    "print(knn_model2.score(test_data2, test_target2))"
   ]
  },
  {
   "cell_type": "code",
   "execution_count": 18,
   "metadata": {},
   "outputs": [
    {
     "name": "stderr",
     "output_type": "stream",
     "text": [
      "/Users/carriewang/opt/anaconda3/lib/python3.8/site-packages/sklearn/linear_model/_logistic.py:762: ConvergenceWarning: lbfgs failed to converge (status=1):\n",
      "STOP: TOTAL NO. of ITERATIONS REACHED LIMIT.\n",
      "\n",
      "Increase the number of iterations (max_iter) or scale the data as shown in:\n",
      "    https://scikit-learn.org/stable/modules/preprocessing.html\n",
      "Please also refer to the documentation for alternative solver options:\n",
      "    https://scikit-learn.org/stable/modules/linear_model.html#logistic-regression\n",
      "  n_iter_i = _check_optimize_result(\n"
     ]
    },
    {
     "name": "stdout",
     "output_type": "stream",
     "text": [
      "accuracy: 0.5414935223661697\n"
     ]
    },
    {
     "data": {
      "text/plain": [
       "<sklearn.metrics._plot.confusion_matrix.ConfusionMatrixDisplay at 0x7fb2705dca60>"
      ]
     },
     "execution_count": 18,
     "metadata": {},
     "output_type": "execute_result"
    },
    {
     "data": {
      "image/png": "[encoded data removed]",
      "text/plain": [
       "<Figure size 432x288 with 2 Axes>"
      ]
     },
     "metadata": {
      "needs_background": "light"
     },
     "output_type": "display_data"
    }
   ],
   "source": [
    "from sklearn.linear_model import LogisticRegression\n",
    "from sklearn.metrics import accuracy_score\n",
    "from sklearn.metrics import plot_confusion_matrix\n",
    "\n",
    "logistic_model2 = LogisticRegression(max_iter=1000)\n",
    "logistic_model2.fit(train_data2, train_target2)\n",
    "predicted2 = logistic_model2.predict(test_data2)\n",
    "score2 = accuracy_score(y_true=test_target2, y_pred=predicted2)\n",
    "\n",
    "print(\"accuracy: {}\".format(score2))\n",
    "\n",
    "plot_confusion_matrix(logistic_model2, test_data2, test_target2)"
   ]
  },
  {
   "cell_type": "code",
   "execution_count": null,
   "metadata": {},
   "outputs": [],
   "source": []
  }
 ],
 "metadata": {
  "kernelspec": {
   "display_name": "Python 3",
   "language": "python",
   "name": "python3"
  },
  "language_info": {
   "codemirror_mode": {
    "name": "ipython",
    "version": 3
   },
   "file_extension": ".py",
   "mimetype": "text/x-python",
   "name": "python",
   "nbconvert_exporter": "python",
   "pygments_lexer": "ipython3",
   "version": "3.8.5"
  }
 },
 "nbformat": 4,
 "nbformat_minor": 4
}
